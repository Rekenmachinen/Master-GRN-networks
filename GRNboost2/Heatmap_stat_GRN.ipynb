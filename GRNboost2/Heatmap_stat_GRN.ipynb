{
 "cells": [
  {
   "cell_type": "code",
   "execution_count": 32,
   "id": "95327c86-f8e4-45ed-9b8d-1756dc50a99c",
   "metadata": {},
   "outputs": [],
   "source": [
    "import numpy as np\n",
    "import matplotlib.pyplot as plt\n",
    "import seaborn as sns\n",
    "import pandas as pd\n"
   ]
  },
  {
   "cell_type": "markdown",
   "id": "aaff32a1-5e3d-45cc-926d-568c0ad4c5ed",
   "metadata": {},
   "source": [
    "#### Import normalised TP FP FN and  TN values to calulate the TPR and FPR claculated values from wnt-network and "
   ]
  },
  {
   "cell_type": "code",
   "execution_count": 63,
   "id": "0e198761-0fe4-4796-a1aa-d2be89e791af",
   "metadata": {},
   "outputs": [],
   "source": [
    "TP_6_5=np.load(\"TP_6.5_GRN.npy\")\n",
    "FP_6_5=np.load(\"FP_6.5_GRN.npy\")\n",
    "FN_6_5=np.load(\"FN_6.5_GRN.npy\")\n",
    "TN_6_5=np.load(\"TN_6.5_GRN.npy\")"
   ]
  },
  {
   "cell_type": "code",
   "execution_count": 64,
   "id": "b43e88f5-f131-4237-a4f3-477831223992",
   "metadata": {},
   "outputs": [],
   "source": [
    "TP_7_5=np.load(\"TP_7.5_GRN.npy\")\n",
    "FP_7_5=np.load(\"FP_7.5_GRN.npy\")\n",
    "FN_7_5=np.load(\"FN_7.5_GRN.npy\")\n",
    "TN_7_5=np.load(\"TN_7.5_GRN.npy\")"
   ]
  },
  {
   "cell_type": "code",
   "execution_count": 65,
   "id": "0ede221f-9e9f-475e-9e6f-0dc45151e35c",
   "metadata": {},
   "outputs": [],
   "source": [
    "TP_8_5=np.load(\"TP_8.5_GRN.npy\")\n",
    "FP_8_5=np.load(\"FP_8.5_GRN.npy\")\n",
    "FN_8_5=np.load(\"FN_8.5_GRN.npy\")\n",
    "TN_8_5=np.load(\"TN_8.5_GRN.npy\")"
   ]
  },
  {
   "cell_type": "code",
   "execution_count": 66,
   "id": "42316681-9f65-4956-a50c-3b2013399e94",
   "metadata": {},
   "outputs": [],
   "source": [
    "TP_9_5=np.load(\"TP_9.5_GRN.npy\")\n",
    "FP_9_5=np.load(\"FP_9.5_GRN.npy\")\n",
    "FN_9_5=np.load(\"FN_9.5_GRN.npy\")\n",
    "TN_9_5=np.load(\"TN_9.5_GRN.npy\")"
   ]
  },
  {
   "cell_type": "code",
   "execution_count": 67,
   "id": "d40a4f99-fa1c-4bee-9b3d-350d3779aba0",
   "metadata": {},
   "outputs": [],
   "source": [
    "#caluclating True postive rate \n",
    "TPR_6_5=TP_6_5/(TP_6_5+FN_6_5)\n",
    "TPR_7_5=TP_7_5/(TP_7_5+FN_7_5)\n",
    "TPR_8_5=TP_8_5/(TP_8_5+FN_8_5)\n",
    "TPR_9_5=TP_9_5/(TP_9_5+FN_9_5)"
   ]
  },
  {
   "cell_type": "code",
   "execution_count": 68,
   "id": "0bc5c04e-3593-4535-9a70-d1c4a3884271",
   "metadata": {},
   "outputs": [],
   "source": [
    "#Calculateing falsh positive rate\n",
    "FPR_6_5=FP_6_5/(FP_6_5+TN_6_5)\n",
    "FPR_7_5=FP_7_5/(FP_7_5+TN_7_5)\n",
    "FPR_8_5=FP_8_5/(FP_8_5+TN_8_5)\n",
    "FPR_9_5=FP_9_5/(FP_9_5+TN_9_5)"
   ]
  },
  {
   "cell_type": "code",
   "execution_count": 74,
   "id": "f4bd38c6-2ab4-48a8-bee8-b99baf7ada46",
   "metadata": {},
   "outputs": [],
   "source": [
    "#blocking them into a matrix\n",
    "TP_matrix=np.block([[TPR_6_5],[TPR_7_5],[TPR_8_5],[TPR_9_5]])\n",
    "FP_matrix=np.block([[FPR_6_5],[FPR_7_5],[FPR_8_5],[FPR_9_5]])\n"
   ]
  },
  {
   "cell_type": "code",
   "execution_count": 71,
   "id": "2b2bcd3f-cec3-43e7-9da4-faa140e2abf1",
   "metadata": {},
   "outputs": [],
   "source": [
    "#making matrix row and colounm labels\n",
    "label_network=np.array([\"Canon\",\"Re\",\"Non\",\"inhip\"])\n",
    "label_day=np.array([\"Day 6.5\",\"Day 7.5\",\"Day 8.5\",\"Day 9.5\"])"
   ]
  },
  {
   "cell_type": "code",
   "execution_count": 72,
   "id": "b6da5537-9eab-4a8b-a502-7f5c3dbe827b",
   "metadata": {},
   "outputs": [],
   "source": [
    "#making a panda dataframe\n",
    "TP_pd=pd.DataFrame(TP_matrix,index=label_day,columns=label_network)\n",
    "FP_pd=pd.DataFrame(FP_matrix,index=label_day,columns=label_network)\n",
    "FN_pd=pd.DataFrame(FN_matrix,index=label_day,columns=label_network)"
   ]
  },
  {
   "cell_type": "code",
   "execution_count": 73,
   "id": "728e348c-fee8-44eb-b61c-b8053e817aa3",
   "metadata": {},
   "outputs": [
    {
     "data": {
      "image/png": "[encoded data removed]",
      "text/plain": [
       "<Figure size 720x360 with 2 Axes>"
      ]
     },
     "metadata": {
      "needs_background": "light"
     },
     "output_type": "display_data"
    }
   ],
   "source": [
    "#Creating the Plot for GRN2boost\n",
    "fig,ax=plt.subplots(1,2,figsize=(10,5))\n",
    "ax[0].set_title('True Positive')\n",
    "ax[1].set_title('Falsh Positive')\n",
    "sns.heatmap(TP_pd,ax=ax[0],annot=True,cbar=0)\n",
    "sns.heatmap(FP_pd,ax=ax[1],annot=True,cbar=0)\n",
    "fig.savefig(\"Matrix_TP_FP_FN.png\")"
   ]
  },
  {
   "cell_type": "code",
   "execution_count": null,
   "id": "dc047fa1-c03a-491e-aa9e-83379bd500b8",
   "metadata": {},
   "outputs": [],
   "source": []
  },
  {
   "cell_type": "code",
   "execution_count": null,
   "id": "021bfd06-d0f2-473e-bd57-4523164477a6",
   "metadata": {},
   "outputs": [],
   "source": []
  }
 ],
 "metadata": {
  "kernelspec": {
   "display_name": "Python 3",
   "language": "python",
   "name": "python3"
  },
  "language_info": {
   "codemirror_mode": {
    "name": "ipython",
    "version": 3
   },
   "file_extension": ".py",
   "mimetype": "text/x-python",
   "name": "python",
   "nbconvert_exporter": "python",
   "pygments_lexer": "ipython3",
   "version": "3.8.10"
  }
 },
 "nbformat": 4,
 "nbformat_minor": 5
}
