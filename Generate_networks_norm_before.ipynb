{
 "cells": [
  {
   "cell_type": "code",
   "execution_count": 1,
   "metadata": {},
   "outputs": [],
   "source": [
    "import numpy as np\n",
    "import matplotlib.pyplot as plt\n",
    "import scanpy as sc\n",
    "import sklearn as sl\n",
    "from sklearn import tree\n",
    "import networkx as nx\n",
    "from sklearn.tree import DecisionTreeRegressor\n",
    "import time"
   ]
  },
  {
   "cell_type": "code",
   "execution_count": 2,
   "metadata": {},
   "outputs": [
    {
     "name": "stderr",
     "output_type": "stream",
     "text": [
      "Variable names are not unique. To make them unique, call `.var_names_make_unique`.\n"
     ]
    }
   ],
   "source": [
    "data=sc.read_h5ad('../../../AnnData/Data_Ann/12-Michaela-anndata-SB1-8_formated.h5ad')"
   ]
  },
  {
   "cell_type": "code",
   "execution_count": 3,
   "metadata": {},
   "outputs": [
    {
     "name": "stderr",
     "output_type": "stream",
     "text": [
      "Variable names are not unique. To make them unique, call `.var_names_make_unique`.\n",
      "Variable names are not unique. To make them unique, call `.var_names_make_unique`.\n"
     ]
    }
   ],
   "source": [
    "data1=data[:,data.X.sum(axis=0)!=0].copy();\n",
    "data2=data1[data1.X.sum(axis=1)!=0,:].copy();\n",
    "data2.X= sl.preprocessing.normalize(data2.X, norm='l1', axis=1)"
   ]
  },
  {
   "cell_type": "code",
   "execution_count": 7,
   "metadata": {},
   "outputs": [
    {
     "name": "stdout",
     "output_type": "stream",
     "text": [
      "0.0 1.361724463000428 0 7\n",
      "0.020607934054611025 356.60214396595256 480 7\n",
      "0.04121586810922205 378.7014977550134 960 7\n",
      "0.061823802163833076 311.47475533297984 1440 7\n",
      "0.0824317362184441 254.75813395396108 1920 7\n",
      "0.10303967027305512 524.9876051929896 2400 7\n",
      "0.12364760432766615 565.2768609389896 2880 7\n",
      "0.14425553838227717 554.8799698860385 3360 7\n",
      "0.1648634724368882 501.13235085998895 3840 7\n",
      "0.18547140649149924 475.77276860701386 4320 7\n",
      "0.20607934054611024 518.2371467649937 4800 7\n",
      "0.22668727460072127 504.324484013021 5280 7\n",
      "0.2472952086553323 505.2885085220332 5760 7\n",
      "0.2679031427099433 444.9046812710003 6240 7\n",
      "0.28851107676455434 489.4326146360254 6720 7\n",
      "0.3091190108191654 467.4257250210503 7200 7\n",
      "0.3297269448737764 446.4006311050034 7680 7\n",
      "0.35033487892838744 301.6620620099711 8160 7\n",
      "0.37094281298299847 346.8533737019752 8640 7\n",
      "0.3915507470376095 340.4765292420052 9120 7\n",
      "0.4121586810922205 237.26639765698928 9600 7\n",
      "0.4327666151468315 260.99106039799517 10080 7\n",
      "0.45337454920144254 252.57669584901305 10560 7\n",
      "0.4739824832560536 223.9759578529629 11040 7\n",
      "0.4945904173106646 221.73951882997062 11520 7\n",
      "0.5151983513652756 179.6953055060003 12000 7\n",
      "0.5358062854198866 325.2082552019856 12480 7\n",
      "0.5564142194744977 483.71015978901414 12960 7\n",
      "0.5770221535291087 434.90973980899435 13440 7\n",
      "0.5976300875837197 420.9131123260013 13920 7\n",
      "0.6182380216383307 425.96336282999255 14400 7\n",
      "0.6388459556929418 497.24863117095083 14880 7\n",
      "0.6594538897475528 425.67663057503523 15360 7\n",
      "0.6800618238021638 478.3495275150053 15840 7\n",
      "0.7006697578567749 415.390849568008 16320 7\n",
      "0.7212776919113859 477.0562529970193 16800 7\n",
      "0.7418856259659969 505.5045771439909 17280 7\n",
      "0.762493560020608 463.76388606702676 17760 7\n",
      "0.783101494075219 502.9883230100386 18240 7\n",
      "0.80370942812983 515.2887918020133 18720 7\n",
      "0.824317362184441 414.79359204898356 19200 7\n",
      "0.844925296239052 451.86284054396674 19680 7\n",
      "0.865533230293663 444.3156065980438 20160 7\n",
      "0.8861411643482741 455.95004429400433 20640 7\n",
      "0.9067490984028851 456.5537289470085 21120 7\n",
      "0.9273570324574961 466.0316091919667 21600 7\n",
      "0.9479649665121072 470.57162482396234 22080 7\n",
      "0.9685729005667182 461.8796641129884 22560 7\n",
      "0.9891808346213292 516.0620214670198 23040 7\n"
     ]
    }
   ],
   "source": [
    "day=[]\n",
    "tic = time.perf_counter()\n",
    "cata=np.unique(data2.obs[\"Condition_Day\"])[:-1]\n",
    "for j in range(7,8):\n",
    "    data_1=data2[data2.obs[\"Condition_Day\"]==cata[j],:];\n",
    "    N=len(data_1.X.T)\n",
    "    np.save(\"label_\"+str(j)+\".npy\",np.array(data_1.var[\"Info_Raw Data Input\"]))\n",
    "    A=np.zeros((N,N))\n",
    "    for i in range(0,N):\n",
    "        clf=DecisionTreeRegressor(max_depth=5)\n",
    "        X=data_1.X[:,:].copy()\n",
    "        X[:,i]=0\n",
    "        clf.fit(X,data_1.X[:,i])\n",
    "        Index=np.nonzero(clf.feature_importances_)[0]\n",
    "        weight=clf.feature_importances_\n",
    "        A[Index,i]=weight[Index]\n",
    "        if i % 480==0:\n",
    "            toc = time.perf_counter()\n",
    "            np.save(\"full_detail\",A)\n",
    "            print(i/N,toc-tic,i,j)\n",
    "            tic = time.perf_counter()\n",
    "    np.save(\"day_norm_before_\"+str(j),A)"
   ]
  },
  {
   "cell_type": "code",
   "execution_count": null,
   "metadata": {},
   "outputs": [],
   "source": [
    "cata=\"day_3_before\",\"day_4_before\",\"day_5_before\",\"day_6_before\",\"day_65_before\",\"day_75_before\",\"day_85_before\",\"day_95_before\","
   ]
  },
  {
   "cell_type": "code",
   "execution_count": 8,
   "metadata": {},
   "outputs": [
    {
     "ename": "FileNotFoundError",
     "evalue": "[Errno 2] No such file or directory: 'day_norm_before_8.npy'",
     "output_type": "error",
     "traceback": [
      "\u001b[0;31m---------------------------------------------------------------------------\u001b[0m",
      "\u001b[0;31mFileNotFoundError\u001b[0m                         Traceback (most recent call last)",
      "\u001b[0;32m<ipython-input-8-ac052af43763>\u001b[0m in \u001b[0;36m<module>\u001b[0;34m\u001b[0m\n\u001b[1;32m      1\u001b[0m \u001b[0;32mfor\u001b[0m \u001b[0mi\u001b[0m \u001b[0;32min\u001b[0m \u001b[0mrange\u001b[0m\u001b[0;34m(\u001b[0m\u001b[0;36m0\u001b[0m\u001b[0;34m,\u001b[0m\u001b[0;36m9\u001b[0m\u001b[0;34m)\u001b[0m\u001b[0;34m:\u001b[0m\u001b[0;34m\u001b[0m\u001b[0;34m\u001b[0m\u001b[0m\n\u001b[1;32m      2\u001b[0m     \u001b[0mlabels\u001b[0m\u001b[0;34m=\u001b[0m\u001b[0mnp\u001b[0m\u001b[0;34m.\u001b[0m\u001b[0mload\u001b[0m\u001b[0;34m(\u001b[0m\u001b[0;34m\"label.npy\"\u001b[0m\u001b[0;34m)\u001b[0m\u001b[0;34m\u001b[0m\u001b[0;34m\u001b[0m\u001b[0m\n\u001b[0;32m----> 3\u001b[0;31m     \u001b[0mA\u001b[0m\u001b[0;34m=\u001b[0m\u001b[0mnp\u001b[0m\u001b[0;34m.\u001b[0m\u001b[0mload\u001b[0m\u001b[0;34m(\u001b[0m\u001b[0;34m\"day_norm_before_\"\u001b[0m\u001b[0;34m+\u001b[0m\u001b[0mstr\u001b[0m\u001b[0;34m(\u001b[0m\u001b[0mi\u001b[0m\u001b[0;34m)\u001b[0m\u001b[0;34m+\u001b[0m\u001b[0;34m\".npy\"\u001b[0m\u001b[0;34m)\u001b[0m\u001b[0;34m\u001b[0m\u001b[0;34m\u001b[0m\u001b[0m\n\u001b[0m\u001b[1;32m      4\u001b[0m     \u001b[0mG\u001b[0m\u001b[0;34m=\u001b[0m\u001b[0mnx\u001b[0m\u001b[0;34m.\u001b[0m\u001b[0mDiGraph\u001b[0m\u001b[0;34m(\u001b[0m\u001b[0mA\u001b[0m\u001b[0;34m)\u001b[0m\u001b[0;34m\u001b[0m\u001b[0;34m\u001b[0m\u001b[0m\n\u001b[1;32m      5\u001b[0m     \u001b[0mG\u001b[0m \u001b[0;34m=\u001b[0m \u001b[0mnx\u001b[0m\u001b[0;34m.\u001b[0m\u001b[0mrelabel_nodes\u001b[0m\u001b[0;34m(\u001b[0m\u001b[0mG\u001b[0m\u001b[0;34m,\u001b[0m\u001b[0mdict\u001b[0m\u001b[0;34m(\u001b[0m\u001b[0mzip\u001b[0m\u001b[0;34m(\u001b[0m\u001b[0mG\u001b[0m\u001b[0;34m,\u001b[0m\u001b[0mlabels\u001b[0m\u001b[0;34m)\u001b[0m\u001b[0;34m)\u001b[0m\u001b[0;34m)\u001b[0m\u001b[0;34m\u001b[0m\u001b[0;34m\u001b[0m\u001b[0m\n",
      "\u001b[0;32m/opt/conda/lib/python3.6/site-packages/numpy/lib/npyio.py\u001b[0m in \u001b[0;36mload\u001b[0;34m(file, mmap_mode, allow_pickle, fix_imports, encoding)\u001b[0m\n\u001b[1;32m    413\u001b[0m         \u001b[0mown_fid\u001b[0m \u001b[0;34m=\u001b[0m \u001b[0;32mFalse\u001b[0m\u001b[0;34m\u001b[0m\u001b[0;34m\u001b[0m\u001b[0m\n\u001b[1;32m    414\u001b[0m     \u001b[0;32melse\u001b[0m\u001b[0;34m:\u001b[0m\u001b[0;34m\u001b[0m\u001b[0;34m\u001b[0m\u001b[0m\n\u001b[0;32m--> 415\u001b[0;31m         \u001b[0mfid\u001b[0m \u001b[0;34m=\u001b[0m \u001b[0mopen\u001b[0m\u001b[0;34m(\u001b[0m\u001b[0mos_fspath\u001b[0m\u001b[0;34m(\u001b[0m\u001b[0mfile\u001b[0m\u001b[0;34m)\u001b[0m\u001b[0;34m,\u001b[0m \u001b[0;34m\"rb\"\u001b[0m\u001b[0;34m)\u001b[0m\u001b[0;34m\u001b[0m\u001b[0;34m\u001b[0m\u001b[0m\n\u001b[0m\u001b[1;32m    416\u001b[0m         \u001b[0mown_fid\u001b[0m \u001b[0;34m=\u001b[0m \u001b[0;32mTrue\u001b[0m\u001b[0;34m\u001b[0m\u001b[0;34m\u001b[0m\u001b[0m\n\u001b[1;32m    417\u001b[0m \u001b[0;34m\u001b[0m\u001b[0m\n",
      "\u001b[0;31mFileNotFoundError\u001b[0m: [Errno 2] No such file or directory: 'day_norm_before_8.npy'"
     ]
    }
   ],
   "source": [
    "for i in range(0,9):\n",
    "    labels=np.load(\"label.npy\")\n",
    "    A=np.load(\"day_norm_before_\"+str(i)+\".npy\")\n",
    "    G=nx.DiGraph(A)\n",
    "    G = nx.relabel_nodes(G,dict(zip(G,labels)))\n",
    "    G.remove_nodes_from(list(nx.isolates(G)))\n",
    "    nx.write_pajek(G,cata[i]+\".net\")\n",
    "    nx.write_gexf(G,cata[i]+\".gexf\")"
   ]
  },
  {
   "cell_type": "code",
   "execution_count": 2,
   "metadata": {},
   "outputs": [],
   "source": [
    "labels=np.load(labels[i]+\"npy\")\n",
    "G=nx.DiGraph(A)"
   ]
  },
  {
   "cell_type": "code",
   "execution_count": 3,
   "metadata": {},
   "outputs": [
    {
     "ename": "NameError",
     "evalue": "name 'X1' is not defined",
     "output_type": "error",
     "traceback": [
      "\u001b[0;31m---------------------------------------------------------------------------\u001b[0m",
      "\u001b[0;31mNameError\u001b[0m                                 Traceback (most recent call last)",
      "\u001b[0;32m<ipython-input-3-404d438a81b2>\u001b[0m in \u001b[0;36m<module>\u001b[0;34m\u001b[0m\n\u001b[0;32m----> 1\u001b[0;31m \u001b[0mlen\u001b[0m\u001b[0;34m(\u001b[0m\u001b[0mX1\u001b[0m\u001b[0;34m.\u001b[0m\u001b[0msum\u001b[0m\u001b[0;34m(\u001b[0m\u001b[0maxis\u001b[0m\u001b[0;34m=\u001b[0m\u001b[0;36m0\u001b[0m\u001b[0;34m)\u001b[0m\u001b[0;34m!=\u001b[0m\u001b[0;36m0\u001b[0m\u001b[0;34m)\u001b[0m\u001b[0;34m,\u001b[0m\u001b[0mX1\u001b[0m\u001b[0;34m.\u001b[0m\u001b[0mshape\u001b[0m\u001b[0;34m\u001b[0m\u001b[0;34m\u001b[0m\u001b[0m\n\u001b[0m",
      "\u001b[0;31mNameError\u001b[0m: name 'X1' is not defined"
     ]
    }
   ],
   "source": [
    "len(X1.sum(axis=0)!=0),X1.shape"
   ]
  },
  {
   "cell_type": "code",
   "execution_count": null,
   "metadata": {},
   "outputs": [],
   "source": [
    "X1=X[X.sum(axis=1)!=0,:]\n",
    "X2=X1[:,X1.sum(axis=0)!=0]\n",
    "X2.shape"
   ]
  },
  {
   "cell_type": "code",
   "execution_count": 15,
   "metadata": {},
   "outputs": [],
   "source": [
    "cata=np.unique(data.obs[\"Condition_Day\"])[:-1]"
   ]
  },
  {
   "cell_type": "code",
   "execution_count": 38,
   "metadata": {},
   "outputs": [
    {
     "name": "stderr",
     "output_type": "stream",
     "text": [
      "Variable names are not unique. To make them unique, call `.var_names_make_unique`.\n",
      "Variable names are not unique. To make them unique, call `.var_names_make_unique`.\n",
      "Variable names are not unique. To make them unique, call `.var_names_make_unique`.\n",
      "Variable names are not unique. To make them unique, call `.var_names_make_unique`.\n"
     ]
    },
    {
     "data": {
      "text/plain": [
       "(248, 15375)"
      ]
     },
     "execution_count": 38,
     "metadata": {},
     "output_type": "execute_result"
    }
   ],
   "source": [
    "data3=data[data.obs[\"Condition_Day\"]==cata[0],:];\n",
    "data3=data3[:,data3.X.sum(axis=0)!=0].copy();\n",
    "data3=data3[data3.X.sum(axis=1)!=1,:].copy();\n",
    "\n",
    "data3.shape"
   ]
  },
  {
   "cell_type": "code",
   "execution_count": 11,
   "metadata": {},
   "outputs": [],
   "source": [
    "G=nx.Graph(np.load(\"day_norm_before_0.npy\"))\n",
    "G.remove_nodes_from(list(nx.isolates(G)))"
   ]
  },
  {
   "cell_type": "code",
   "execution_count": 15,
   "metadata": {},
   "outputs": [
    {
     "data": {
      "text/plain": [
       "7917"
      ]
     },
     "execution_count": 15,
     "metadata": {},
     "output_type": "execute_result"
    }
   ],
   "source": []
  },
  {
   "cell_type": "code",
   "execution_count": 2,
   "metadata": {},
   "outputs": [],
   "source": [
    "cata=\"day_3\",\"day_4\",\"day_5\",\"day_6\",\"day_65\",\"day_75\",\"day_85\",\"day_95\"\n",
    "label=np.load(\"label.npy\")"
   ]
  },
  {
   "cell_type": "code",
   "execution_count": null,
   "metadata": {},
   "outputs": [],
   "source": [
    "for j in range(7,8):\n",
    "    day=np.load(\"day_\"+str(j)+\".npy\");\n",
    "    for i in range(len(day)):\n",
    "        day[i+1:len(day),i]=day[i:len(day)-1,i];\n",
    "        day[i,i]=0;\n",
    "    G=nx.DiGraph(day);\n",
    "    G = nx.relabel_nodes(G,dict(zip(G,label)));\n",
    "    nx.write_pajek(G,cata[j]+\".net\");\n",
    "    nx.write_gexf(G,cata[j]+\".gexf\");"
   ]
  },
  {
   "cell_type": "code",
   "execution_count": 32,
   "metadata": {},
   "outputs": [],
   "source": [
    "G=nx.DiGraph(day)"
   ]
  },
  {
   "cell_type": "code",
   "execution_count": 33,
   "metadata": {},
   "outputs": [
    {
     "data": {
      "text/plain": [
       "0"
      ]
     },
     "execution_count": 33,
     "metadata": {},
     "output_type": "execute_result"
    }
   ],
   "source": [
    "nx.number_of_selfloops(G)"
   ]
  },
  {
   "cell_type": "code",
   "execution_count": 30,
   "metadata": {},
   "outputs": [
    {
     "data": {
      "text/plain": [
       "array([[0., 0., 0., 0., 0., 0., 0., 0., 0., 0.],\n",
       "       [1., 0., 0., 0., 0., 0., 0., 0., 0., 0.],\n",
       "       [0., 1., 0., 0., 0., 0., 0., 0., 0., 0.],\n",
       "       [0., 0., 1., 0., 0., 0., 0., 0., 0., 0.],\n",
       "       [0., 0., 0., 1., 0., 0., 0., 0., 0., 0.],\n",
       "       [0., 0., 0., 0., 1., 0., 0., 0., 0., 0.],\n",
       "       [0., 0., 0., 0., 0., 1., 0., 0., 0., 0.],\n",
       "       [0., 0., 0., 0., 0., 0., 1., 0., 0., 0.],\n",
       "       [0., 0., 0., 0., 0., 0., 0., 1., 0., 0.],\n",
       "       [0., 0., 0., 0., 0., 0., 0., 0., 1., 0.]])"
      ]
     },
     "execution_count": 30,
     "metadata": {},
     "output_type": "execute_result"
    }
   ],
   "source": [
    "L"
   ]
  },
  {
   "cell_type": "code",
   "execution_count": null,
   "metadata": {},
   "outputs": [],
   "source": []
  }
 ],
 "metadata": {
  "kernelspec": {
   "display_name": "Python 3",
   "language": "python",
   "name": "python3"
  },
  "language_info": {
   "codemirror_mode": {
    "name": "ipython",
    "version": 3
   },
   "file_extension": ".py",
   "mimetype": "text/x-python",
   "name": "python",
   "nbconvert_exporter": "python",
   "pygments_lexer": "ipython3",
   "version": "3.8.10"
  }
 },
 "nbformat": 4,
 "nbformat_minor": 4
}
